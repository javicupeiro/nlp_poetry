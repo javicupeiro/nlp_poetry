{
 "cells": [
  {
   "cell_type": "code",
   "execution_count": 1,
   "metadata": {},
   "outputs": [],
   "source": [
    "from gensim.models import KeyedVectors"
   ]
  },
  {
   "cell_type": "code",
   "execution_count": 4,
   "metadata": {},
   "outputs": [
    {
     "data": {
      "text/plain": [
       "(400000, 300)"
      ]
     },
     "execution_count": 4,
     "metadata": {},
     "output_type": "execute_result"
    }
   ],
   "source": [
    "fname = \"../data/glove.6B.300d.txt\"\n",
    "glove = KeyedVectors.load_word2vec_format(fname=fname,\n",
    "                                          no_header=True)"
   ]
  },
  {
   "cell_type": "code",
   "execution_count": 11,
   "metadata": {},
   "outputs": [
    {
     "name": "stdout",
     "output_type": "stream",
     "text": [
      "Embedding size-> words: 400000, dimensions: 300\n"
     ]
    }
   ],
   "source": [
    "print(f\"Embedding size-> words: {glove.vectors.shape[0]}, dimensions: {glove.vectors.shape[1]}\")"
   ]
  },
  {
   "cell_type": "markdown",
   "metadata": {},
   "source": [
    "---"
   ]
  },
  {
   "cell_type": "markdown",
   "metadata": {},
   "source": [
    "We can check the 10 most similar words using ``most_similar``, it uses cosine similarity to check which embeddings are more similar"
   ]
  },
  {
   "cell_type": "code",
   "execution_count": 19,
   "metadata": {},
   "outputs": [
    {
     "data": {
      "text/plain": [
       "[('computers', 0.8248153328895569),\n",
       " ('software', 0.733441948890686),\n",
       " ('pc', 0.6240139603614807),\n",
       " ('technology', 0.6198545098304749),\n",
       " ('computing', 0.6178765296936035),\n",
       " ('laptop', 0.5955509543418884),\n",
       " ('internet', 0.5857782363891602),\n",
       " ('ibm', 0.5825320482254028),\n",
       " ('systems', 0.5744993686676025),\n",
       " ('hardware', 0.5728795528411865)]"
      ]
     },
     "execution_count": 19,
     "metadata": {},
     "output_type": "execute_result"
    }
   ],
   "source": [
    "glove.most_similar(\"computer\")"
   ]
  },
  {
   "cell_type": "code",
   "execution_count": 16,
   "metadata": {},
   "outputs": [
    {
     "data": {
      "text/plain": [
       "[('nasa', 0.6323993802070618),\n",
       " ('spacecraft', 0.6256126761436462),\n",
       " ('spaces', 0.5907454490661621),\n",
       " ('shuttle', 0.571556568145752),\n",
       " ('astronauts', 0.5633981227874756),\n",
       " ('orbit', 0.5250406265258789),\n",
       " ('earth', 0.5232998132705688),\n",
       " ('spaceship', 0.5080129504203796),\n",
       " ('launch', 0.5067257881164551),\n",
       " ('orbiting', 0.4881773889064789)]"
      ]
     },
     "execution_count": 16,
     "metadata": {},
     "output_type": "execute_result"
    }
   ],
   "source": [
    "glove.most_similar(\"space\")"
   ]
  }
 ],
 "metadata": {
  "kernelspec": {
   "display_name": "nlp",
   "language": "python",
   "name": "python3"
  },
  "language_info": {
   "codemirror_mode": {
    "name": "ipython",
    "version": 3
   },
   "file_extension": ".py",
   "mimetype": "text/x-python",
   "name": "python",
   "nbconvert_exporter": "python",
   "pygments_lexer": "ipython3",
   "version": "3.12.3"
  }
 },
 "nbformat": 4,
 "nbformat_minor": 2
}
